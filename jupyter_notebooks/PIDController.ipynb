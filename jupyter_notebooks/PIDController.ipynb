{
 "cells": [
  {
   "cell_type": "code",
   "execution_count": null,
   "metadata": {
    "collapsed": true
   },
   "outputs": [],
   "source": [
    "# A PID controller helps to control the motion of the car by continuously calculating an error value\n",
    "# based on three terms (proportional, integral and derivating) \n",
    "\n",
    "import motors\n",
    "\n",
    "class PIDController(object):\n",
    "    def __init__(self, P, I, D, maxspeed, steering_angle):\n",
    "        self.P = P\n",
    "        self.I = I\n",
    "        self.D = D\n",
    "        self.maxspeed = maxspeed\n",
    "        self.steering_angle = steering_angle\n",
    "        \n",
    "    def get_LR_speed(self, offset):\n",
    "        offset = offset*self.steering_angle\n",
    "        if (offset > 0):\n",
    "            return (self.maxspeed * (1-offset), self.maxspeed)\n",
    "        else:\n",
    "            return (self.maxspeed, self.maxspeed * (1 + offset))"
   ]
  }
 ],
 "metadata": {
  "anaconda-cloud": {},
  "kernelspec": {
   "display_name": "Python [conda env:py35]",
   "language": "python",
   "name": "conda-env-py35-py"
  },
  "language_info": {
   "codemirror_mode": {
    "name": "ipython",
    "version": 3
   },
   "file_extension": ".py",
   "mimetype": "text/x-python",
   "name": "python",
   "nbconvert_exporter": "python",
   "pygments_lexer": "ipython3",
   "version": "3.5.2"
  }
 },
 "nbformat": 4,
 "nbformat_minor": 0
}
