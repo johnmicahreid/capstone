{
 "cells": [
  {
   "cell_type": "code",
   "execution_count": 48,
   "metadata": {
    "collapsed": false
   },
   "outputs": [
    {
     "name": "stdout",
     "output_type": "stream",
     "text": [
      "(30, 30)\n"
     ]
    },
    {
     "data": {
      "image/png": "[encoded data removed]",
      "text/plain": [
       "<matplotlib.figure.Figure at 0x11ab27a90>"
      ]
     },
     "metadata": {},
     "output_type": "display_data"
    }
   ],
   "source": [
    "import cv2, numpy as np\n",
    "import time, random\n",
    "import matplotlib \n",
    "import matplotlib.pyplot as plt\n",
    "\n",
    "meas=[]\n",
    "pred=[]\n",
    "mp = np.array((1,1),np.float32) # measurement\n",
    "tp = np.zeros((1,1),np.float32) # tracked / prediction\n",
    "\n",
    "kalman = cv2.KalmanFilter(2,1) # 2D state (distance and velocity), 1D measurement (distance)\n",
    "kalman.measurementMatrix = np.array([[1,1]], np.float32)\n",
    "kalman.transitionMatrix = np.array([[1,1], [0,1]], np.float32)\n",
    "kalman.processNoiseCov = np.array([[1,0], [0,1]], np.float32) * 0.00003\n",
    "kalman.measurementNoiseCov = np.array([[1]], np.float32) * 0.03\n",
    "\n",
    "steps = 30\n",
    "for i in range(steps):\n",
    "        mp = np.array([[np.random.normal(0, 1.0)]], np.float32)\n",
    "        meas.append(mp[0])\n",
    "        kalman.correct(mp)\n",
    "        tp = kalman.predict()\n",
    "        pred.append(tp[0])\n",
    "        #print(\"Measured: %s, estimated: %s\" % (mp[0], tp[0]))\n",
    "        #time.sleep(0.1)\n",
    "\n",
    "actual = [0 for x in range(steps)] \n",
    "meas = [x[0] for x in meas]\n",
    "rolling_avg = np.convolve(meas, [1.0/3,1.0/3,1.0/3], 'same')\n",
    "\n",
    "time = np.arange(0, steps)\n",
    "print(len(time), len(meas))\n",
    "plt.scatter(time, meas, label = \"Measured\", lw = 2.0, c = \"red\")\n",
    "est_lab, = plt.plot(time, pred, label = \"Kalman Filter\", lw = 2.0, c = \"purple\")\n",
    "act_lab, = plt.plot(time, actual, label = \"Actual\", lw = 2.0, c = \"blue\")\n",
    "avg_lab, = plt.plot(time, rolling_avg, label = \"Rolling Average\", lw = 2.0, c = \"green\")\n",
    "\n",
    "\n",
    "plt.legend(handles=[act_lab, est_lab, avg_lab])\n",
    "plt.xlabel('Time')\n",
    "plt.ylabel('Value')\n",
    "plt.show()"
   ]
  },
  {
   "cell_type": "code",
   "execution_count": 26,
   "metadata": {
    "collapsed": false
   },
   "outputs": [
    {
     "data": {
      "text/plain": [
       "array([ 0.33333333,  1.        ,  2.        ,  3.        ,  4.        ,\n",
       "        5.        ,  6.        ,  7.        ,  8.        ,  5.66666667])"
      ]
     },
     "execution_count": 26,
     "metadata": {},
     "output_type": "execute_result"
    }
   ],
   "source": [
    "x_list = range(10)\n",
    "np.convolve(x_list, [1.0/3,1.0/3,1.0/3], 'same')"
   ]
  },
  {
   "cell_type": "code",
   "execution_count": 27,
   "metadata": {
    "collapsed": false
   },
   "outputs": [
    {
     "data": {
      "text/plain": [
       "[array([-0.98258477], dtype=float32),\n",
       " array([-1.57851541], dtype=float32),\n",
       " array([-1.66926575], dtype=float32),\n",
       " array([-0.63036269], dtype=float32),\n",
       " array([-0.30143127], dtype=float32),\n",
       " array([-0.88148171], dtype=float32),\n",
       " array([ 0.73245358], dtype=float32),\n",
       " array([-0.98927951], dtype=float32),\n",
       " array([ 1.71003187], dtype=float32),\n",
       " array([ 0.01228206], dtype=float32),\n",
       " array([-1.61119998], dtype=float32),\n",
       " array([-0.83140177], dtype=float32),\n",
       " array([-1.39992082], dtype=float32),\n",
       " array([-1.0274986], dtype=float32),\n",
       " array([ 2.25496864], dtype=float32),\n",
       " array([-0.10775625], dtype=float32),\n",
       " array([ 0.92425871], dtype=float32),\n",
       " array([-1.01388216], dtype=float32),\n",
       " array([ 0.12928146], dtype=float32),\n",
       " array([-0.00735499], dtype=float32),\n",
       " array([-1.05245423], dtype=float32),\n",
       " array([ 1.41867805], dtype=float32),\n",
       " array([ 1.71366036], dtype=float32),\n",
       " array([ 0.82647026], dtype=float32),\n",
       " array([ 1.45977902], dtype=float32),\n",
       " array([-0.32003337], dtype=float32),\n",
       " array([-0.54763085], dtype=float32),\n",
       " array([ 0.12963682], dtype=float32),\n",
       " array([-1.83797002], dtype=float32),\n",
       " array([-3.27713323], dtype=float32),\n",
       " array([ 1.86656392], dtype=float32),\n",
       " array([-0.84244847], dtype=float32),\n",
       " array([ 0.54380244], dtype=float32),\n",
       " array([-1.02815247], dtype=float32),\n",
       " array([-2.2845571], dtype=float32),\n",
       " array([-0.23409881], dtype=float32),\n",
       " array([-0.7523005], dtype=float32),\n",
       " array([-1.11250055], dtype=float32),\n",
       " array([ 1.83495903], dtype=float32),\n",
       " array([-0.78595322], dtype=float32),\n",
       " array([-1.3863951], dtype=float32),\n",
       " array([-0.28303522], dtype=float32),\n",
       " array([ 0.05805604], dtype=float32),\n",
       " array([-0.28689718], dtype=float32),\n",
       " array([-1.80014777], dtype=float32),\n",
       " array([ 1.06101942], dtype=float32),\n",
       " array([-0.79941493], dtype=float32),\n",
       " array([ 1.08963335], dtype=float32),\n",
       " array([ 0.03860801], dtype=float32),\n",
       " array([-1.09915161], dtype=float32),\n",
       " array([ 0.96058339], dtype=float32),\n",
       " array([-1.58507907], dtype=float32),\n",
       " array([-1.58376825], dtype=float32),\n",
       " array([-1.48007751], dtype=float32),\n",
       " array([ 1.49433172], dtype=float32),\n",
       " array([-0.08684986], dtype=float32),\n",
       " array([-1.01232052], dtype=float32),\n",
       " array([ 0.75643474], dtype=float32),\n",
       " array([-0.20450503], dtype=float32),\n",
       " array([-0.92103642], dtype=float32),\n",
       " array([ 0.29458973], dtype=float32),\n",
       " array([ 0.73131108], dtype=float32),\n",
       " array([ 0.37713489], dtype=float32),\n",
       " array([-1.14726377], dtype=float32),\n",
       " array([ 0.67822957], dtype=float32),\n",
       " array([-0.09403501], dtype=float32),\n",
       " array([-0.27076387], dtype=float32),\n",
       " array([-0.45442384], dtype=float32),\n",
       " array([ 0.20888443], dtype=float32),\n",
       " array([-1.64794064], dtype=float32),\n",
       " array([ 3.25000191], dtype=float32),\n",
       " array([-0.51675421], dtype=float32),\n",
       " array([-1.22809339], dtype=float32),\n",
       " array([-0.44463137], dtype=float32),\n",
       " array([ 0.16520731], dtype=float32),\n",
       " array([-0.51394439], dtype=float32),\n",
       " array([ 0.42250904], dtype=float32),\n",
       " array([-1.18856466], dtype=float32),\n",
       " array([-0.9588176], dtype=float32),\n",
       " array([ 0.39720699], dtype=float32),\n",
       " array([-1.1362797], dtype=float32),\n",
       " array([-0.64075583], dtype=float32),\n",
       " array([ 0.54468107], dtype=float32),\n",
       " array([-0.9758091], dtype=float32),\n",
       " array([-0.03945474], dtype=float32),\n",
       " array([ 0.55346137], dtype=float32),\n",
       " array([ 0.19752058], dtype=float32),\n",
       " array([-0.4611631], dtype=float32),\n",
       " array([-2.8849678], dtype=float32),\n",
       " array([ 0.46395648], dtype=float32),\n",
       " array([-1.30520654], dtype=float32),\n",
       " array([-0.73375857], dtype=float32),\n",
       " array([ 1.53573227], dtype=float32),\n",
       " array([-0.42788309], dtype=float32),\n",
       " array([-1.50905478], dtype=float32),\n",
       " array([ 0.92948151], dtype=float32),\n",
       " array([ 0.01303599], dtype=float32),\n",
       " array([ 2.04433799], dtype=float32),\n",
       " array([ 0.43685222], dtype=float32),\n",
       " array([ 0.8769564], dtype=float32)]"
      ]
     },
     "execution_count": 27,
     "metadata": {},
     "output_type": "execute_result"
    }
   ],
   "source": [
    "meas"
   ]
  }
 ],
 "metadata": {
  "anaconda-cloud": {},
  "kernelspec": {
   "display_name": "Python [conda root]",
   "language": "python",
   "name": "conda-root-py"
  },
  "language_info": {
   "codemirror_mode": {
    "name": "ipython",
    "version": 2
   },
   "file_extension": ".py",
   "mimetype": "text/x-python",
   "name": "python",
   "nbconvert_exporter": "python",
   "pygments_lexer": "ipython2",
   "version": "2.7.13"
  }
 },
 "nbformat": 4,
 "nbformat_minor": 0
}
