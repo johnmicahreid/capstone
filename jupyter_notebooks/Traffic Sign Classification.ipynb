{
 "cells": [
  {
   "cell_type": "code",
   "execution_count": 31,
   "metadata": {
    "collapsed": false
   },
   "outputs": [],
   "source": [
    "import tensorflow as tf\n",
    "import numpy as np\n",
    "import random\n",
    "import matplotlib\n",
    "import matplotlib.pyplot as plt\n",
    "from sklearn.utils import shuffle\n",
    "from sklearn.model_selection import train_test_split\n",
    "import os"
   ]
  },
  {
   "cell_type": "code",
   "execution_count": 32,
   "metadata": {
    "collapsed": false
   },
   "outputs": [],
   "source": [
    "# Load pickled data\n",
    "import pickle\n",
    "\n",
    "# TODO: Fill this in based on where you saved the training and testing data\n",
    "\n",
    "training_file = \"/Users/johnreid/capstone/jupyter_notebooks/data/train.p\"\n",
    "testing_file = \"/Users/johnreid/capstone/jupyter_notebooks/data/test.p\"\n",
    "\n",
    "with open(training_file, mode='rb') as f:\n",
    "    train = pickle.load(f)\n",
    "with open(testing_file, mode='rb') as f:\n",
    "    test = pickle.load(f)\n",
    "    \n",
    "X_train, y_train = train['features'], train['labels']\n",
    "X_test, y_test = test['features'], test['labels']\n",
    "\n",
    "n_classes = len(np.unique(y_train))"
   ]
  },
  {
   "cell_type": "code",
   "execution_count": 33,
   "metadata": {
    "collapsed": false
   },
   "outputs": [],
   "source": [
    "# Normalize the inputs to between 0 and 1\n",
    "X_train_norm = X_train / 256\n",
    "X_test_norm = X_test / 256\n",
    "\n",
    "# Transform into one-hot encoding\n",
    "def vectorized_result(j, n_classes):\n",
    "    e = np.zeros(n_classes)\n",
    "    e[j] = 1.0\n",
    "    return e\n",
    "\n",
    "y_train = np.asarray([vectorized_result(i, n_classes) for i in y_train])\n",
    "y_test = np.asarray([vectorized_result(i, n_classes) for i in y_test])"
   ]
  },
  {
   "cell_type": "markdown",
   "metadata": {},
   "source": [
    "Now for some dataset augmentation. We'll just do random rotation at 90, 180 and 270 degrees for now"
   ]
  },
  {
   "cell_type": "code",
   "execution_count": 34,
   "metadata": {
    "collapsed": true
   },
   "outputs": [],
   "source": [
    "def random_rotation(img):\n",
    "    num_rotations = random.randint(1, 3)\n",
    "    return np.rot90(img, num_rotations)\n",
    "\n",
    "X_train_rot = [random_rotation(x) for x in X_train_norm]\n",
    "\n",
    "X_train_norm = np.concatenate((X_train_norm, X_train_rot))\n",
    "y_train = np.concatenate((y_train, y_train))"
   ]
  },
  {
   "cell_type": "code",
   "execution_count": 35,
   "metadata": {
    "collapsed": false
   },
   "outputs": [
    {
     "name": "stdout",
     "output_type": "stream",
     "text": [
      "X train shape: (62734, 32, 32, 3)\n",
      "y train shape: (62734, 43)\n",
      "X validation shape: (15684, 32, 32, 3)\n",
      "y validation shape: (15684, 43)\n",
      "X test shape: (12630, 32, 32, 3)\n",
      "ytest shape: (12630, 43)\n"
     ]
    }
   ],
   "source": [
    "# Shuffle the data\n",
    "X_train_norm, y_train = shuffle(X_train_norm, y_train)\n",
    "X_test_norm, y_test = shuffle(X_test_norm, y_test)\n",
    "\n",
    "X_train, X_validation, y_train, y_validation = train_test_split(X_train_norm, y_train, \n",
    "                                                                test_size=0.10, random_state=42)\n",
    "\n",
    "# # Add some of the test data to the training data\n",
    "# X_train_norm = np.concatenate((X_train_norm, X_test_norm[:10791]), axis = 0)\n",
    "# X_test_norm = X_test_norm[10791:]\n",
    "\n",
    "# y_train = np.concatenate((y_train, y_test[:10791]), axis = 0)\n",
    "# y_test = y_test[10791:]\n",
    "\n",
    "print(\"X train shape:\", X_train.shape)\n",
    "print(\"y train shape:\", y_train.shape)\n",
    "print(\"X validation shape:\", X_validation.shape)\n",
    "print(\"y validation shape:\", y_validation.shape)\n",
    "print(\"X test shape:\", X_test_norm.shape)\n",
    "print(\"ytest shape:\", y_test.shape)"
   ]
  },
  {
   "cell_type": "code",
   "execution_count": 36,
   "metadata": {
    "collapsed": false
   },
   "outputs": [],
   "source": [
    "## Helper functions\n",
    "def weight_variable(shape):\n",
    "    initial = tf.truncated_normal(shape, stddev = 0.1)\n",
    "    return tf.Variable(initial)\n",
    "\n",
    "def bias_variable(shape):\n",
    "    initial = tf.truncated_normal(shape=shape, stddev = 0.1)\n",
    "    return tf.Variable(initial)\n",
    "\n",
    "def conv2d(x, W):\n",
    "    return tf.nn.conv2d(x, W, strides = [1,1,1,1], padding='VALID')\n",
    "\n",
    "def max_pool_2x2(x):\n",
    "    return tf.nn.max_pool(x, ksize = [1, 2, 2, 1],\n",
    "                         strides = [1,2,2,1], padding = 'VALID')\n",
    "\n",
    "def LeNet_v1(x): \n",
    "    W_conv1 = weight_variable([5,5,3,6])\n",
    "    b_conv1 = bias_variable([6])\n",
    "\n",
    "    x_image = tf.reshape(x, [-1, 32, 32, 3])\n",
    "\n",
    "    h_conv1 = tf.nn.relu(conv2d(x_image, W_conv1) + b_conv1)\n",
    "    h_pool1 = max_pool_2x2(h_conv1)\n",
    "\n",
    "    W_conv2 = weight_variable([5,5,6, 16])\n",
    "    b_conv2 = bias_variable([16])\n",
    "\n",
    "    h_conv2 = tf.nn.relu(conv2d(h_pool1, W_conv2) + b_conv2)\n",
    "    h_pool2 = max_pool_2x2(h_conv2)\n",
    "\n",
    "    W_conv3 = weight_variable([5,5,16,400])\n",
    "    b_conv3 = bias_variable([400])\n",
    "\n",
    "    h_conv3 = tf.nn.relu(conv2d(h_pool2, W_conv3) + b_conv3)\n",
    "    h_conv3_flat = tf.reshape(h_conv3, [-1, 400])\n",
    "\n",
    "    W_fc1 = weight_variable([400, 800])\n",
    "    b_fc1 = bias_variable([800])\n",
    "    h_fc1 = tf.nn.relu(tf.matmul(h_conv3_flat, W_fc1) + b_fc1)\n",
    "    \n",
    "    h_fc1 = tf.nn.dropout(h_fc1, keep_prob)\n",
    "\n",
    "    W_fc2 = weight_variable([800, n_classes])\n",
    "    b_fc2 = bias_variable([n_classes])\n",
    "    final = tf.matmul(h_fc1, W_fc2) + b_fc2\n",
    "    \n",
    "    return final"
   ]
  },
  {
   "cell_type": "code",
   "execution_count": 37,
   "metadata": {
    "collapsed": false
   },
   "outputs": [],
   "source": [
    "x = tf.placeholder(tf.float32, (None, 32, 32, 3))\n",
    "y_ = tf.placeholder(tf.float32, shape=(None))\n",
    "keep_prob = tf.placeholder(tf.float32)\n",
    "\n",
    "logits = LeNet_v1(x)\n",
    "\n",
    "cross_entropy = tf.reduce_mean(tf.nn.softmax_cross_entropy_with_logits(logits=logits, labels=y_))\n",
    "train_step = tf.train.AdamOptimizer(1e-4).minimize(cross_entropy)\n",
    "\n",
    "correct_prediction = tf.equal(tf.argmax(logits, 1), tf.argmax(y_, 1))\n",
    "accuracy = tf.reduce_mean(tf.cast(correct_prediction, tf.float32))\n",
    "\n",
    "sess = tf.InteractiveSession()\n",
    "sess.run(tf.global_variables_initializer())"
   ]
  },
  {
   "cell_type": "code",
   "execution_count": 44,
   "metadata": {
    "collapsed": false
   },
   "outputs": [
    {
     "name": "stdout",
     "output_type": "stream",
     "text": [
      "Epoch 0\n",
      "validation accuracy: 0.9548\n",
      "Epoch 1\n",
      "validation accuracy: 0.9589\n",
      "Epoch 2\n",
      "validation accuracy: 0.9517\n",
      "Epoch 3\n",
      "validation accuracy: 0.951\n",
      "Epoch 4\n",
      "validation accuracy: 0.9612\n",
      "Epoch 5\n",
      "validation accuracy: 0.9655\n",
      "Epoch 6\n",
      "validation accuracy: 0.9515\n",
      "Epoch 7\n",
      "validation accuracy: 0.9613\n",
      "Epoch 8\n",
      "validation accuracy: 0.9619\n",
      "Epoch 9\n",
      "validation accuracy: 0.9651\n",
      "Epoch 10\n",
      "validation accuracy: 0.9628\n",
      "Epoch 11\n",
      "validation accuracy: 0.9686\n",
      "Epoch 12\n",
      "validation accuracy: 0.9619\n",
      "Epoch 13\n",
      "validation accuracy: 0.9676\n",
      "Epoch 14\n",
      "validation accuracy: 0.966\n",
      "Epoch 15\n",
      "validation accuracy: 0.9636\n",
      "Epoch 16\n",
      "validation accuracy: 0.969\n",
      "Epoch 17\n",
      "validation accuracy: 0.9686\n",
      "Epoch 18\n",
      "validation accuracy: 0.9707\n",
      "Epoch 19\n",
      "validation accuracy: 0.9529\n",
      "Epoch 20\n",
      "validation accuracy: 0.9702\n",
      "Epoch 21\n",
      "validation accuracy: 0.9618\n",
      "Epoch 22\n",
      "validation accuracy: 0.9709\n",
      "Epoch 23\n",
      "validation accuracy: 0.9708\n",
      "Epoch 24\n",
      "validation accuracy: 0.9712\n"
     ]
    }
   ],
   "source": [
    "BATCH_SIZE = 50\n",
    "EPOCHS = 25\n",
    "INPUT_SIZE = len(X_train_norm)\n",
    "\n",
    "def evaluate(X_data, y_data):\n",
    "    num_examples = len(X_data)\n",
    "    total_accuracy = 0\n",
    "    sess = tf.get_default_session()\n",
    "    for offset in range(0, num_examples, BATCH_SIZE):\n",
    "        batch_x, batch_y = X_data[offset:offset+BATCH_SIZE], y_data[offset:offset+BATCH_SIZE]\n",
    "        accuracy_count = sess.run(accuracy, feed_dict={x: batch_x, y_: batch_y, keep_prob: 1.0})\n",
    "        total_accuracy += (accuracy_count * len(batch_x))\n",
    "    return total_accuracy / num_examples\n",
    "\n",
    "def run_lenet(training_images, training_labels, test_images, test_labels, batch_size, epochs, input_size):\n",
    "    results = []\n",
    "    for i in range(epochs):\n",
    "        print(\"Epoch %s\" %i)\n",
    "        training_images, training_labels = shuffle(training_images, training_labels)\n",
    "        for j in range(int(input_size / batch_size)):\n",
    "            batch_xs = training_images[batch_size * j: batch_size*(j+1)]\n",
    "            batch_ys = training_labels[batch_size * j: batch_size*(j+1)]\n",
    "            train_step.run(feed_dict = {x:batch_xs, y_:batch_ys, keep_prob: 0.5})\n",
    "            \n",
    "        valid_accuracy = evaluate(test_images[:10000], test_labels[:10000])\n",
    "        print(\"validation accuracy: %g\"% valid_accuracy)\n",
    "        results.append(valid_accuracy)\n",
    "    return results\n",
    "\n",
    "res = run_lenet(X_train, y_train, X_validation, y_validation, BATCH_SIZE, EPOCHS, INPUT_SIZE)"
   ]
  },
  {
   "cell_type": "code",
   "execution_count": 45,
   "metadata": {
    "collapsed": false
   },
   "outputs": [
    {
     "data": {
      "text/plain": [
       "0.0001"
      ]
     },
     "execution_count": 45,
     "metadata": {},
     "output_type": "execute_result"
    }
   ],
   "source": [
    "1e-4"
   ]
  },
  {
   "cell_type": "code",
   "execution_count": 46,
   "metadata": {
    "collapsed": false
   },
   "outputs": [
    {
     "ename": "ValueError",
     "evalue": "Parent directory of /Users/johnreid/capstone/jupyter_notebooks/Users/johnreid/Desktop/model.ckpt doesn't exist, can't save.",
     "output_type": "error",
     "traceback": [
      "\u001b[0;31m---------------------------------------------------------------------------\u001b[0m",
      "\u001b[0;31mValueError\u001b[0m                                Traceback (most recent call last)",
      "\u001b[0;32m<ipython-input-46-7dafb59c45c3>\u001b[0m in \u001b[0;36m<module>\u001b[0;34m()\u001b[0m\n\u001b[1;32m      5\u001b[0m \u001b[0;32mif\u001b[0m \u001b[0;32mnot\u001b[0m \u001b[0mos\u001b[0m\u001b[0;34m.\u001b[0m\u001b[0mpath\u001b[0m\u001b[0;34m.\u001b[0m\u001b[0misabs\u001b[0m\u001b[0;34m(\u001b[0m\u001b[0msave_path\u001b[0m\u001b[0;34m)\u001b[0m\u001b[0;34m:\u001b[0m\u001b[0;34m\u001b[0m\u001b[0m\n\u001b[1;32m      6\u001b[0m     \u001b[0msave_path\u001b[0m \u001b[0;34m=\u001b[0m \u001b[0mos\u001b[0m\u001b[0;34m.\u001b[0m\u001b[0mpath\u001b[0m\u001b[0;34m.\u001b[0m\u001b[0mabspath\u001b[0m\u001b[0;34m(\u001b[0m\u001b[0mos\u001b[0m\u001b[0;34m.\u001b[0m\u001b[0mpath\u001b[0m\u001b[0;34m.\u001b[0m\u001b[0mjoin\u001b[0m\u001b[0;34m(\u001b[0m\u001b[0mos\u001b[0m\u001b[0;34m.\u001b[0m\u001b[0mgetcwd\u001b[0m\u001b[0;34m(\u001b[0m\u001b[0;34m)\u001b[0m\u001b[0;34m,\u001b[0m \u001b[0msave_path\u001b[0m\u001b[0;34m)\u001b[0m\u001b[0;34m)\u001b[0m\u001b[0;34m\u001b[0m\u001b[0m\n\u001b[0;32m----> 7\u001b[0;31m \u001b[0msave_path2\u001b[0m \u001b[0;34m=\u001b[0m \u001b[0msaver\u001b[0m\u001b[0;34m.\u001b[0m\u001b[0msave\u001b[0m\u001b[0;34m(\u001b[0m\u001b[0msess\u001b[0m\u001b[0;34m,\u001b[0m \u001b[0msave_path\u001b[0m\u001b[0;34m)\u001b[0m\u001b[0;34m\u001b[0m\u001b[0m\n\u001b[0m\u001b[1;32m      8\u001b[0m \u001b[0mprint\u001b[0m\u001b[0;34m(\u001b[0m\u001b[0;34m\"Model saved in file: %s\"\u001b[0m \u001b[0;34m%\u001b[0m \u001b[0msave_path2\u001b[0m\u001b[0;34m)\u001b[0m\u001b[0;34m\u001b[0m\u001b[0m\n",
      "\u001b[0;32m/Users/johnreid/anaconda/envs/py35/lib/python3.5/site-packages/tensorflow/python/training/saver.py\u001b[0m in \u001b[0;36msave\u001b[0;34m(self, sess, save_path, global_step, latest_filename, meta_graph_suffix, write_meta_graph, write_state)\u001b[0m\n\u001b[1;32m   1363\u001b[0m     \u001b[0;32mif\u001b[0m \u001b[0;32mnot\u001b[0m \u001b[0mgfile\u001b[0m\u001b[0;34m.\u001b[0m\u001b[0mIsDirectory\u001b[0m\u001b[0;34m(\u001b[0m\u001b[0mos\u001b[0m\u001b[0;34m.\u001b[0m\u001b[0mpath\u001b[0m\u001b[0;34m.\u001b[0m\u001b[0mdirname\u001b[0m\u001b[0;34m(\u001b[0m\u001b[0msave_path\u001b[0m\u001b[0;34m)\u001b[0m\u001b[0;34m)\u001b[0m\u001b[0;34m:\u001b[0m\u001b[0;34m\u001b[0m\u001b[0m\n\u001b[1;32m   1364\u001b[0m       raise ValueError(\n\u001b[0;32m-> 1365\u001b[0;31m           \"Parent directory of {} doesn't exist, can't save.\".format(save_path))\n\u001b[0m\u001b[1;32m   1366\u001b[0m \u001b[0;34m\u001b[0m\u001b[0m\n\u001b[1;32m   1367\u001b[0m     \u001b[0msave_path\u001b[0m \u001b[0;34m=\u001b[0m \u001b[0mos\u001b[0m\u001b[0;34m.\u001b[0m\u001b[0mpath\u001b[0m\u001b[0;34m.\u001b[0m\u001b[0mdirname\u001b[0m\u001b[0;34m(\u001b[0m\u001b[0msave_path\u001b[0m\u001b[0;34m)\u001b[0m\u001b[0;34m\u001b[0m\u001b[0m\n",
      "\u001b[0;31mValueError\u001b[0m: Parent directory of /Users/johnreid/capstone/jupyter_notebooks/Users/johnreid/Desktop/model.ckpt doesn't exist, can't save."
     ]
    }
   ],
   "source": [
    "saver = tf.train.Saver()\n",
    "\n",
    "save_path = \"Users/johnreid/Desktop/model.ckpt\"\n",
    "\n",
    "if not os.path.isabs(save_path):\n",
    "    save_path = os.path.abspath(os.path.join(os.getcwd(), save_path))\n",
    "save_path2 = saver.save(sess, save_path)\n",
    "print(\"Model saved in file: %s\" % save_path2)"
   ]
  },
  {
   "cell_type": "code",
   "execution_count": 47,
   "metadata": {
    "collapsed": false
   },
   "outputs": [
    {
     "ename": "ValueError",
     "evalue": "Parent directory of /Users/johnreid/capstone/jupyter_notebooks/tmp/trained_variables2.ckpt doesn't exist, can't save.",
     "output_type": "error",
     "traceback": [
      "\u001b[0;31m---------------------------------------------------------------------------\u001b[0m",
      "\u001b[0;31mValueError\u001b[0m                                Traceback (most recent call last)",
      "\u001b[0;32m<ipython-input-47-6c63fe79faf1>\u001b[0m in \u001b[0;36m<module>\u001b[0;34m()\u001b[0m\n\u001b[1;32m      1\u001b[0m \u001b[0msaver\u001b[0m \u001b[0;34m=\u001b[0m \u001b[0mtf\u001b[0m\u001b[0;34m.\u001b[0m\u001b[0mtrain\u001b[0m\u001b[0;34m.\u001b[0m\u001b[0mSaver\u001b[0m\u001b[0;34m(\u001b[0m\u001b[0mwrite_version\u001b[0m\u001b[0;34m=\u001b[0m\u001b[0mtf\u001b[0m\u001b[0;34m.\u001b[0m\u001b[0mtrain\u001b[0m\u001b[0;34m.\u001b[0m\u001b[0mSaverDef\u001b[0m\u001b[0;34m.\u001b[0m\u001b[0mV2\u001b[0m\u001b[0;34m)\u001b[0m\u001b[0;34m\u001b[0m\u001b[0m\n\u001b[0;32m----> 2\u001b[0;31m \u001b[0msave_path2\u001b[0m \u001b[0;34m=\u001b[0m \u001b[0msaver\u001b[0m\u001b[0;34m.\u001b[0m\u001b[0msave\u001b[0m\u001b[0;34m(\u001b[0m\u001b[0msess\u001b[0m\u001b[0;34m,\u001b[0m \u001b[0mos\u001b[0m\u001b[0;34m.\u001b[0m\u001b[0mpath\u001b[0m\u001b[0;34m.\u001b[0m\u001b[0mjoin\u001b[0m\u001b[0;34m(\u001b[0m\u001b[0mos\u001b[0m\u001b[0;34m.\u001b[0m\u001b[0mgetcwd\u001b[0m\u001b[0;34m(\u001b[0m\u001b[0;34m)\u001b[0m\u001b[0;34m,\u001b[0m \u001b[0;34m'tmp/trained_variables2.ckpt'\u001b[0m\u001b[0;34m)\u001b[0m\u001b[0;34m)\u001b[0m\u001b[0;34m\u001b[0m\u001b[0m\n\u001b[0m\u001b[1;32m      3\u001b[0m \u001b[0mprint\u001b[0m\u001b[0;34m(\u001b[0m\u001b[0;34m\"Model saved in file: %s\"\u001b[0m \u001b[0;34m%\u001b[0m \u001b[0msave_path2\u001b[0m\u001b[0;34m)\u001b[0m\u001b[0;34m\u001b[0m\u001b[0m\n",
      "\u001b[0;32m/Users/johnreid/anaconda/envs/py35/lib/python3.5/site-packages/tensorflow/python/training/saver.py\u001b[0m in \u001b[0;36msave\u001b[0;34m(self, sess, save_path, global_step, latest_filename, meta_graph_suffix, write_meta_graph, write_state)\u001b[0m\n\u001b[1;32m   1363\u001b[0m     \u001b[0;32mif\u001b[0m \u001b[0;32mnot\u001b[0m \u001b[0mgfile\u001b[0m\u001b[0;34m.\u001b[0m\u001b[0mIsDirectory\u001b[0m\u001b[0;34m(\u001b[0m\u001b[0mos\u001b[0m\u001b[0;34m.\u001b[0m\u001b[0mpath\u001b[0m\u001b[0;34m.\u001b[0m\u001b[0mdirname\u001b[0m\u001b[0;34m(\u001b[0m\u001b[0msave_path\u001b[0m\u001b[0;34m)\u001b[0m\u001b[0;34m)\u001b[0m\u001b[0;34m:\u001b[0m\u001b[0;34m\u001b[0m\u001b[0m\n\u001b[1;32m   1364\u001b[0m       raise ValueError(\n\u001b[0;32m-> 1365\u001b[0;31m           \"Parent directory of {} doesn't exist, can't save.\".format(save_path))\n\u001b[0m\u001b[1;32m   1366\u001b[0m \u001b[0;34m\u001b[0m\u001b[0m\n\u001b[1;32m   1367\u001b[0m     \u001b[0msave_path\u001b[0m \u001b[0;34m=\u001b[0m \u001b[0mos\u001b[0m\u001b[0;34m.\u001b[0m\u001b[0mpath\u001b[0m\u001b[0;34m.\u001b[0m\u001b[0mdirname\u001b[0m\u001b[0;34m(\u001b[0m\u001b[0msave_path\u001b[0m\u001b[0;34m)\u001b[0m\u001b[0;34m\u001b[0m\u001b[0m\n",
      "\u001b[0;31mValueError\u001b[0m: Parent directory of /Users/johnreid/capstone/jupyter_notebooks/tmp/trained_variables2.ckpt doesn't exist, can't save."
     ]
    }
   ],
   "source": [
    "saver = tf.train.Saver(write_version=tf.train.SaverDef.V2)\n",
    "save_path2 = saver.save(sess, os.path.join(os.getcwd(), 'tmp/trained_variables2.ckpt'))\n",
    "print(\"Model saved in file: %s\" % save_path2)"
   ]
  }
 ],
 "metadata": {
  "anaconda-cloud": {},
  "kernelspec": {
   "display_name": "Python [conda env:py35]",
   "language": "python",
   "name": "conda-env-py35-py"
  },
  "language_info": {
   "codemirror_mode": {
    "name": "ipython",
    "version": 3
   },
   "file_extension": ".py",
   "mimetype": "text/x-python",
   "name": "python",
   "nbconvert_exporter": "python",
   "pygments_lexer": "ipython3",
   "version": "3.5.2"
  }
 },
 "nbformat": 4,
 "nbformat_minor": 2
}
