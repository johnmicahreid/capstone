{
 "cells": [
  {
   "cell_type": "code",
   "execution_count": null,
   "metadata": {
    "collapsed": true
   },
   "outputs": [],
   "source": [
    "# A PID controller helps to control the motion of the car by continuously calculating an error value\n",
    "# based on three terms (proportional, integral and derivating) \n",
    "\n",
    "import motors\n",
    "\n",
    "\n",
    "class PIDController(object):\n",
    "    def __init__(self, P, I, D):\n",
    "        self.P = P\n",
    "        self.I = I\n",
    "        self.D = D\n",
    "        \n",
    "    def get_error(self, offset, width):\n",
    "        # We want to measure the distance from the middle of the lane to the centre of the frame\n",
    "        error = offset - width\n",
    "        steering_angle = self.P * error\n",
    "        return steering_angle"
   ]
  }
 ],
 "metadata": {
  "kernelspec": {
   "display_name": "Python [Root]",
   "language": "python",
   "name": "Python [Root]"
  },
  "language_info": {
   "codemirror_mode": {
    "name": "ipython",
    "version": 2
   },
   "file_extension": ".py",
   "mimetype": "text/x-python",
   "name": "python",
   "nbconvert_exporter": "python",
   "pygments_lexer": "ipython2",
   "version": "2.7.10"
  }
 },
 "nbformat": 4,
 "nbformat_minor": 0
}
