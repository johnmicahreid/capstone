{
 "cells": [
  {
   "cell_type": "markdown",
   "metadata": {},
   "source": [
    "## Introduction\n",
    "\n",
    "In this notebook, I'll be doing the preprocessing of the images for the Haar cascade classifier. I'll actually run the classifer using the OpenCV command line tools, so the aim of this exercise is to create the correct inputs for the classifer. I have been using the following tutorial as a reference:\n",
    "https://pythonprogramming.net/haar-cascade-object-detection-python-opencv-tutorial/\n"
   ]
  },
  {
   "cell_type": "code",
   "execution_count": 20,
   "metadata": {
    "collapsed": false
   },
   "outputs": [],
   "source": [
    "import matplotlib\n",
    "from matplotlib import pyplot as plt\n",
    "import numpy as np\n",
    "import os\n",
    "import pickle\n",
    "from sklearn.utils import shuffle"
   ]
  },
  {
   "cell_type": "code",
   "execution_count": 36,
   "metadata": {
    "collapsed": false
   },
   "outputs": [
    {
     "name": "stdout",
     "output_type": "stream",
     "text": [
      "Cascade preprocessing.ipynb \u001b[34mpos\u001b[m\u001b[m\r\n",
      "\u001b[31mbg.txt\u001b[m\u001b[m                      positives.vec\r\n",
      "\u001b[34mdata\u001b[m\u001b[m                        watch5050.jpg\r\n",
      "\u001b[34mneg\u001b[m\u001b[m\r\n"
     ]
    }
   ],
   "source": [
    "os.chdir(\"/Users/johnreid/capstone/cascade\")\n",
    "os.getcwd()\n",
    "#!mkdir data pos neg"
   ]
  },
  {
   "cell_type": "markdown",
   "metadata": {},
   "source": [
    "### Creating the negative images\n",
    "\n",
    "I'll follow the instructions in the tutorial"
   ]
  },
  {
   "cell_type": "code",
   "execution_count": null,
   "metadata": {
    "collapsed": true
   },
   "outputs": [],
   "source": []
  },
  {
   "cell_type": "markdown",
   "metadata": {},
   "source": [
    "#### Creating the positive images\n",
    "\n",
    "I'll use a random sample of images from the GTSRB dataset (the same as the one I used to train the classifier)"
   ]
  },
  {
   "cell_type": "code",
   "execution_count": 37,
   "metadata": {
    "collapsed": false
   },
   "outputs": [],
   "source": [
    "# Get the images\n",
    "training_file = \"/Users/johnreid/capstone/jupyter_notebooks/data/train.p\"\n",
    "\n",
    "with open(training_file, mode='rb') as f:\n",
    "    train = pickle.load(f)\n",
    "    \n",
    "X_train, y_train = train['features'], train['labels']\n",
    "\n",
    "# Shuffle them\n",
    "X_train = shuffle(X_train)\n",
    "\n",
    "# Take only a subsample of them\n",
    "X_train = X_train[:5000]\n",
    "\n",
    "def rgb2gray(rgb):\n",
    "    return np.dot(rgb[...,:3], [0.299, 0.587, 0.114])\n",
    "\n",
    "# Convert to greyscale\n",
    "X_train = np.asarray([rgb2gray(x) for x in X_train]).astype(int)"
   ]
  },
  {
   "cell_type": "code",
   "execution_count": 38,
   "metadata": {
    "collapsed": false
   },
   "outputs": [
    {
     "name": "stdout",
     "output_type": "stream",
     "text": [
      "[[18 18 26 ..., 21 18 22]\n",
      " [21 20 21 ..., 18 18 19]\n",
      " [19 22 20 ..., 15 18 21]\n",
      " ..., \n",
      " [23 21 24 ..., 12 21 33]\n",
      " [22 23 25 ..., 25 29 38]\n",
      " [23 26 28 ..., 25 32 27]]\n"
     ]
    },
    {
     "data": {
      "image/png": "[encoded data removed]",
      "text/plain": [
       "<matplotlib.figure.Figure at 0x13ed2aac8>"
      ]
     },
     "metadata": {},
     "output_type": "display_data"
    }
   ],
   "source": [
    "# Let's test one of the images to see if it looks right\n",
    "print(X_train[55])\n",
    "plt.imshow(X_train[55], cmap = \"Greys_r\")\n",
    "plt.show()"
   ]
  },
  {
   "cell_type": "code",
   "execution_count": 39,
   "metadata": {
    "collapsed": false
   },
   "outputs": [],
   "source": [
    "# Save the positive images in the 'pos' directory, and create the lst file\n",
    "file_path = \"/Users/johnreid/capstone/cascade/\"\n",
    "\n",
    "pic_num = 1\n",
    "for img in X_train:\n",
    "    try:\n",
    "        line = str(pic_num) + '.jpg' + ' 1 0 0 32 32\\n'\n",
    "        with open(file_path + 'pos/pos.lst','a') as f:\n",
    "            f.write(line)\n",
    "        plt.imsave(file_path + \"pos/\"+str(pic_num)+\".jpg\",img, cmap = \"Greys_r\")\n",
    "        pic_num += 1\n",
    "\n",
    "    except Exception as e:\n",
    "        print(str(e))  "
   ]
  },
  {
   "cell_type": "markdown",
   "metadata": {},
   "source": [
    "### Training the classifier\n",
    "mkdir data\n",
    "\n",
    "opencv_createsamples -info pos/pos.lst -num 5000 -w 32 -h 32 -vec positives.vec\n",
    "\n",
    "opencv_traincascade -data data -vec positives.vec -bg bg.txt -numPos 1000 -numNeg 900 -numStages 10 -w 20 -h 20"
   ]
  },
  {
   "cell_type": "code",
   "execution_count": null,
   "metadata": {
    "collapsed": true
   },
   "outputs": [],
   "source": []
  }
 ],
 "metadata": {
  "anaconda-cloud": {},
  "kernelspec": {
   "display_name": "Python [conda env:py35]",
   "language": "python",
   "name": "conda-env-py35-py"
  },
  "language_info": {
   "codemirror_mode": {
    "name": "ipython",
    "version": 3
   },
   "file_extension": ".py",
   "mimetype": "text/x-python",
   "name": "python",
   "nbconvert_exporter": "python",
   "pygments_lexer": "ipython3",
   "version": "3.5.2"
  }
 },
 "nbformat": 4,
 "nbformat_minor": 2
}
